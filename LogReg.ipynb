{
 "cells": [
  {
   "cell_type": "code",
   "execution_count": null,
   "id": "496e0d73-9c4b-49a3-8fd2-a652f39ef632",
   "metadata": {},
   "outputs": [
    {
     "data": {
      "application/vnd.jupyter.widget-view+json": {
       "model_id": "b06d96025bca411d8d6e42ea273fd883",
       "version_major": 2,
       "version_minor": 0
      },
      "text/plain": [
       "Map:   0%|          | 0/998488 [00:00<?, ? examples/s]"
      ]
     },
     "metadata": {},
     "output_type": "display_data"
    },
    {
     "data": {
      "application/vnd.jupyter.widget-view+json": {
       "model_id": "91debad452394932bd7eb9d3275cbe0c",
       "version_major": 2,
       "version_minor": 0
      },
      "text/plain": [
       "Map:   0%|          | 0/249622 [00:00<?, ? examples/s]"
      ]
     },
     "metadata": {},
     "output_type": "display_data"
    },
    {
     "name": "stderr",
     "output_type": "stream",
     "text": [
      "Some weights of BertForSequenceClassification were not initialized from the model checkpoint at bert-base-uncased and are newly initialized: ['classifier.bias', 'classifier.weight']\n",
      "You should probably TRAIN this model on a down-stream task to be able to use it for predictions and inference.\n",
      "C:\\Users\\nerfg\\AppData\\Local\\Programs\\Python\\Python312\\Lib\\site-packages\\transformers\\training_args.py:1545: FutureWarning: `evaluation_strategy` is deprecated and will be removed in version 4.46 of 🤗 Transformers. Use `eval_strategy` instead\n",
      "  warnings.warn(\n"
     ]
    },
    {
     "data": {
      "text/html": [
       "\n",
       "    <div>\n",
       "      \n",
       "      <progress value='4' max='374433' style='width:300px; height:20px; vertical-align: middle;'></progress>\n",
       "      [     4/374433 02:37 < 8185:32:45, 0.01 it/s, Epoch 0.00/3]\n",
       "    </div>\n",
       "    <table border=\"1\" class=\"dataframe\">\n",
       "  <thead>\n",
       " <tr style=\"text-align: left;\">\n",
       "      <th>Epoch</th>\n",
       "      <th>Training Loss</th>\n",
       "      <th>Validation Loss</th>\n",
       "    </tr>\n",
       "  </thead>\n",
       "  <tbody>\n",
       "  </tbody>\n",
       "</table><p>"
      ],
      "text/plain": [
       "<IPython.core.display.HTML object>"
      ]
     },
     "metadata": {},
     "output_type": "display_data"
    }
   ],
   "source": [
    "import os\n",
    "import xml.etree.ElementTree as ET\n",
    "import pandas as pd\n",
    "from sklearn.model_selection import train_test_split\n",
    "from sklearn.linear_model import LogisticRegression\n",
    "from sklearn.feature_extraction.text import CountVectorizer\n",
    "from sklearn.metrics import classification_report, roc_auc_score, roc_curve\n",
    "from sklearn.utils import class_weight\n",
    "import numpy as np\n",
    "import matplotlib.pyplot as plt\n",
    "\n",
    "def parse_bnc_file_word_level(folder_path, file_limit=a):\n",
    "    data = []\n",
    "    file_count = 0\n",
    "    print(f\"Parsing XML files in '{folder_path}'...\")\n",
    "    for filename in os.listdir(folder_path):\n",
    "        if filename.endswith(\".xml\"):\n",
    "            print(f\"Parsing {filename}...\")\n",
    "            tree = ET.parse(os.path.join(folder_path, filename))\n",
    "            root = tree.getroot()\n",
    "            for u in root.findall('u'):\n",
    "                sentence = ' '.join([w.text for w in u.findall('w')])  # Create the full sentence\n",
    "                for w in u.findall('w'):\n",
    "                    text = w.text\n",
    "                    label = 1 if w.attrib['pos'] in ['RR', 'UH'] else 0\n",
    "                    data.append((text, label, w.attrib['pos'], sentence))  # Include sentence in data\n",
    "            file_count += 1\n",
    "            if file_count >= file_limit:\n",
    "                break\n",
    "    return pd.DataFrame(data, columns=['word', 'label', 'pos', 'sentence'])\n",
    "\n",
    "def train_logistic_regression_word_level(X_train, X_test, y_train, y_test, df):\n",
    "    vectorizer = CountVectorizer(ngram_range=(1, 2))  # Using bigrams\n",
    "    X_train_vec = vectorizer.fit_transform(X_train)\n",
    "    X_test_vec = vectorizer.transform(X_test)\n",
    "\n",
    "    weights = class_weight.compute_class_weight(class_weight='balanced', classes=np.unique(y_train), y=y_train)\n",
    "    class_weights_dict = {i: weights[i] for i in range(len(weights))}\n",
    "\n",
    "    model = LogisticRegression(max_iter=1000, class_weight=class_weights_dict)\n",
    "    model.fit(X_train_vec, y_train)\n",
    "\n",
    "    predictions = model.predict(X_test_vec)\n",
    "\n",
    "    report = classification_report(y_test, predictions)\n",
    "    auc_score = roc_auc_score(y_test, model.predict_proba(X_test_vec)[:, 1])\n",
    "    fpr, tpr, _ = roc_curve(y_test, model.predict_proba(X_test_vec)[:, 1])\n",
    "\n",
    "    print(\"Model trained. Generating results...\")\n",
    "\n",
    "    plt.figure()\n",
    "    plt.plot(fpr, tpr, label=f'ROC curve (area = {auc_score:.2f})')\n",
    "    plt.xlabel('False Positive Rate')\n",
    "    plt.ylabel('True Positive Rate')\n",
    "    plt.title('Receiver Operating Characteristic (ROC)')\n",
    "    plt.legend(loc=\"lower right\")\n",
    "    plt.savefig('logistic_regression_roc_curve.png')\n",
    "\n",
    "    errors = []\n",
    "    for i in range(len(predictions)):\n",
    "        if predictions[i] != y_test.iloc[i]: \n",
    "            errors.append((X_test.iloc[i], y_test.iloc[i], predictions[i], df.iloc[X_test.index[i]]['sentence']))\n",
    "\n",
    "    return report, auc_score, errors\n",
    "\n",
    "def preprocess_and_train_word_level(folder_path, output_file):\n",
    "    print(\"Preprocessing data for word-level classification...\")\n",
    "    df = parse_bnc_file_word_level(folder_path)\n",
    "\n",
    "    X_train, X_test, y_train, y_test = train_test_split(df['word'], df['label'], test_size=0.2, random_state=42)\n",
    "\n",
    "    report, auc_score, errors = train_logistic_regression_word_level(X_train, X_test, y_train, y_test, df)\n",
    "\n",
    "    with open(output_file, 'w', encoding='utf-8') as f:\n",
    "        f.write(f\"Classification Report:\\n{report}\\n\")\n",
    "        f.write(f\"ROC AUC Score: {auc_score:.4f}\\n\")\n",
    "        f.write(f\"ROC curve saved as 'logistic_regression_roc_curve.png'\\n\")\n",
    "        f.write(\"\\nIncorrectly Classified Discourse Markers:\\n\")\n",
    "        for word, true_label, pred_label, sentence in errors:\n",
    "            f.write(f\"Word: {word}, True Label: {true_label}, Predicted Label: {pred_label}, Sentence: '{sentence}'\\n\")\n",
    "\n",
    "    print(f\"Results saved to {output_file}\")\n",
    "\n",
    "if __name__ == \"__main__\":\n",
    "    preprocess_and_train_word_level('spoken/tagged', 'logreg_word_level_results.txt')\n"
   ]
  },
  {
   "cell_type": "code",
   "execution_count": null,
   "id": "61fa3718-1c9f-4e61-a16c-75199de67392",
   "metadata": {},
   "outputs": [],
   "source": []
  }
 ],
 "metadata": {
  "kernelspec": {
   "display_name": "Python 3 (ipykernel)",
   "language": "python",
   "name": "python3"
  },
  "language_info": {
   "codemirror_mode": {
    "name": "ipython",
    "version": 3
   },
   "file_extension": ".py",
   "mimetype": "text/x-python",
   "name": "python",
   "nbconvert_exporter": "python",
   "pygments_lexer": "ipython3",
   "version": "3.12.2"
  }
 },
 "nbformat": 4,
 "nbformat_minor": 5
}
